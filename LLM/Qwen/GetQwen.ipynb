{
 "cells": [
  {
   "cell_type": "code",
   "execution_count": 1,
   "metadata": {},
   "outputs": [
    {
     "name": "stdout",
     "output_type": "stream",
     "text": [
      "c:\\Users\\Nack\\Desktop\\LLM\\Qwen\n"
     ]
    }
   ],
   "source": [
    "import os\n",
    "import time\n",
    "import openpyxl\n",
    "from openai import OpenAI\n",
    "from pathlib import Path\n",
    "\n",
    "# OpenAI API 客户端（阿里云千问）\n",
    "client = OpenAI(\n",
    "    api_key=\"sk-038c3b8e36ce43e4a94156257a766bc4\",\n",
    "    base_url=\"https://dashscope.aliyuncs.com/compatible-mode/v1\",\n",
    ")\n",
    "\n",
    "print(os.getcwd())\n"
   ]
  },
  {
   "cell_type": "code",
   "execution_count": 2,
   "metadata": {},
   "outputs": [],
   "source": [
    "IMAGE_FOLDER = \"images\"  # 请修改为你的图片文件夹路径\n",
    "OUTPUT_EXCEL = \"images/image_descriptions.xlsx\"  # 结果保存的Excel文件\n",
    "\n",
    "# 支持的图片格式\n",
    "VALID_EXTENSIONS = {\".jpg\", \".png\", \".jpeg\"}\n",
    "\n",
    "# 创建 Excel 工作簿和工作表\n",
    "wb = openpyxl.Workbook()\n",
    "ws = wb.active\n",
    "ws.append([\"图片路径\", \"图片描述\"])  # 添加表头\n"
   ]
  },
  {
   "cell_type": "code",
   "execution_count": null,
   "metadata": {},
   "outputs": [],
   "source": [
    "import base64\n",
    "\n",
    "def describe_image(image_path, client):\n",
    "    \"\"\"调用 API 获取图片描述\"\"\"\n",
    "    try:\n",
    "        # 读取图片并进行 Base64 编码\n",
    "        with open(image_path, \"rb\") as image_file:\n",
    "            base64_image = base64.b64encode(image_file.read()).decode(\"utf-8\")\n",
    "\n",
    "        # 发送请求\n",
    "        response = client.chat.completions.create(\n",
    "            model=\"qwen2.5-vl-72b-instruct\",\n",
    "            messages=[\n",
    "                {\"role\": \"user\", \"content\": [\n",
    "                    {\"type\": \"text\", \"text\": \"你是一个机械制造领域的大师，现在有一个待安装SMA的盒子，共有若干个空位，请确保安装的空位总数正确。空位中可能有些已经安装完成SMA，请你为剩下的空位规划安装顺序，使得安装效率最高。直接告诉我空位总数，已安装数量，待安装数量以及安装顺序坐标。\"},\n",
    "                    {\"type\": \"image_url\", \"image_url\": {\"url\": f\"data:image/jpeg;base64,{base64_image}\"}}\n",
    "                ]}\n",
    "            ]\n",
    "        )\n",
    "\n",
    "        # 获取返回结果\n",
    "        print(f\"response: {response}\")\n",
    "        return response.choices[0].message.content\n",
    "    except Exception as e:\n",
    "        print(f\"处理 {image_path} 时出错: {e}\")\n",
    "        return \"API 调用失败\"\n"
   ]
  },
  {
   "cell_type": "code",
   "execution_count": 5,
   "metadata": {},
   "outputs": [
    {
     "name": "stdout",
     "output_type": "stream",
     "text": [
      "处理图片: c:\\Users\\Nack\\Desktop\\LLM\\Qwen\\images\\WIN_20250330_16_10_45_Pro.jpg\n",
      "response: ChatCompletion(id='chatcmpl-55cff667-0420-936b-a6fc-3789f8c20151', choices=[Choice(finish_reason='stop', index=0, logprobs=None, message=ChatCompletionMessage(content='空位总数：20\\n已安装数量：2\\n待安装数量：18\\n\\n最后的安装顺序坐标（从左到右，从上到下）：\\n3, 4, 5, 6, 7, 8, 9, 10, 11, 12, 13, 14, 15, 16, 17, 18, 19, 20', refusal=None, role='assistant', annotations=None, audio=None, function_call=None, tool_calls=None))], created=1743323952, model='qwen2.5-vl-72b-instruct', object='chat.completion', service_tier=None, system_fingerprint=None, usage=CompletionUsage(completion_tokens=101, prompt_tokens=1326, total_tokens=1427, completion_tokens_details=CompletionTokensDetails(accepted_prediction_tokens=None, audio_tokens=None, reasoning_tokens=None, rejected_prediction_tokens=None, text_tokens=101), prompt_tokens_details=PromptTokensDetails(audio_tokens=None, cached_tokens=None, text_tokens=102, image_tokens=1224)))\n",
      "所有图片处理完成，结果已保存至 images/image_descriptions.xlsx\n"
     ]
    }
   ],
   "source": [
    "# 遍历文件夹中的所有图片\n",
    "for image_file in os.listdir(IMAGE_FOLDER):\n",
    "    image_path = os.path.join(IMAGE_FOLDER, image_file)\n",
    "    image_path = os.path.abspath(image_path)  \n",
    "\n",
    "    # 检查是否是图片文件\n",
    "    if Path(image_path).suffix.lower() in VALID_EXTENSIONS:\n",
    "        print(f\"处理图片: {image_path}\")\n",
    "        description = describe_image(image_path, client)\n",
    "        \n",
    "        # 存入 Excel\n",
    "        ws.append([image_path, description])\n",
    "        \n",
    "        # 适当延迟，避免 API 速率限制\n",
    "        time.sleep(1)\n",
    "\n",
    "# 保存 Excel 文件\n",
    "wb.save(OUTPUT_EXCEL)\n",
    "print(f\"所有图片处理完成，结果已保存至 {OUTPUT_EXCEL}\")"
   ]
  }
 ],
 "metadata": {
  "kernelspec": {
   "display_name": "llm",
   "language": "python",
   "name": "python3"
  },
  "language_info": {
   "codemirror_mode": {
    "name": "ipython",
    "version": 3
   },
   "file_extension": ".py",
   "mimetype": "text/x-python",
   "name": "python",
   "nbconvert_exporter": "python",
   "pygments_lexer": "ipython3",
   "version": "3.12.9"
  }
 },
 "nbformat": 4,
 "nbformat_minor": 2
}
