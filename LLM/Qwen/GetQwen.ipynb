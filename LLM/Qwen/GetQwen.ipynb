{
 "cells": [
  {
   "cell_type": "code",
   "execution_count": 5,
   "metadata": {},
   "outputs": [
    {
     "name": "stdout",
     "output_type": "stream",
     "text": [
      "c:\\Users\\Nack\\Desktop\\Nack-graduation-project\\LLM\\Qwen\n"
     ]
    }
   ],
   "source": [
    "import os\n",
    "import time\n",
    "import openpyxl\n",
    "from openai import OpenAI\n",
    "from pathlib import Path\n",
    "\n",
    "# OpenAI API 客户端（阿里云千问）\n",
    "client = OpenAI(\n",
    "    api_key=\"sk-038c3b8e36ce43e4a94156257a766bc4\",\n",
    "    base_url=\"https://dashscope.aliyuncs.com/compatible-mode/v1\",\n",
    ")\n",
    "\n",
    "print(os.getcwd())\n"
   ]
  },
  {
   "cell_type": "code",
   "execution_count": null,
   "metadata": {},
   "outputs": [],
   "source": [
    "IMAGE_FOLDER = \"images\"  # 请修改为你的图片文件夹路径\n",
    "OUTPUT_EXCEL = \"images/image_descriptions.xlsx\"  # 结果保存的Excel文件\n",
    "\n",
    "# 支持的图片格式\n",
    "VALID_EXTENSIONS = {\".jpg\", \".png\", \".jpeg\"}\n",
    "\n",
    "# 创建 Excel 工作簿和工作表\n",
    "wb = openpyxl.Workbook()\n",
    "ws = wb.active\n",
    "ws.append([\"图片路径\", \"图片描述\"])  # 添加表头\n"
   ]
  },
  {
   "cell_type": "code",
   "execution_count": null,
   "metadata": {},
   "outputs": [],
   "source": [
    "import base64\n",
    "\n",
    "def describe_image(image_path, client):\n",
    "    \"\"\"调用 API 获取图片描述\"\"\"\n",
    "    try:\n",
    "        # 读取图片并进行 Base64 编码\n",
    "        with open(image_path, \"rb\") as image_file:\n",
    "            base64_image = base64.b64encode(image_file.read()).decode(\"utf-8\")\n",
    "\n",
    "        # 发送请求\n",
    "        response = client.chat.completions.create(\n",
    "            model=\"qwen2.5-vl-72b-instruct\",\n",
    "            messages=[\n",
    "                {\"role\": \"user\", \"content\": [\n",
    "                    # {\"type\": \"text\", \"text\": \"你是一个机械制造领域的大师，现在有一个待安装SMA的盒子，共有20空位。空位中已有2个安装完成SMA，请你为剩下的空位规划安装顺序，使得安装效率最高。告诉我安装顺序坐标。\"},\n",
    "                    {\"type\": \"text\", \"text\": \"你是一位机械制造领域的专家，擅长优化安装流程以提升效率。我将提供一张图片，图片中展示了一个待安装SMA（表面贴装组件）的盒子，盒子共有20个空位，其中2个空位已完成安装。请你根据图片识别盒子的空位分布及已完成安装的位置，并规划剩余空位的最优安装顺序，以最小化工具移动距离。输出时，请列出每个空位的安装顺序及其对应坐标，并说明优化逻辑。如果图片信息不清晰或存在歧义，请提出具体问题以便进一步确认。\"},\n",
    "                    {\"type\": \"image_url\", \"image_url\": {\"url\": f\"data:image/jpeg;base64,{base64_image}\"}}\n",
    "                ]}\n",
    "            ]\n",
    "        )\n",
    "\n",
    "        # 获取返回结果\n",
    "        print(f\"response: {response}\")\n",
    "        return response.choices[0].message.content\n",
    "    except Exception as e:\n",
    "        print(f\"处理 {image_path} 时出错: {e}\")\n",
    "        return \"API 调用失败\"\n"
   ]
  },
  {
   "cell_type": "code",
   "execution_count": 8,
   "metadata": {},
   "outputs": [
    {
     "name": "stdout",
     "output_type": "stream",
     "text": [
      "处理图片: c:\\Users\\Nack\\Desktop\\Nack-graduation-project\\LLM\\Qwen\\images\\图1.jpg\n",
      "response: ChatCompletion(id='chatcmpl-5eac3bf3-bc93-90d2-a478-41d5182932af', choices=[Choice(finish_reason='stop', index=0, logprobs=None, message=ChatCompletionMessage(content='为了提高安装效率，我们可以采用一种策略，即从已安装SMA的两个位置开始，逐步向四周扩展。这样可以减少机械臂或操作人员的移动距离，从而提高安装速度。根据图片中的布局，我们假设左上角为坐标(1,1)，右下角为坐标(5,4)。\\n\\n已安装SMA的位置为：\\n- (1,1)\\n- (3,2)\\n\\n接下来的安装顺序可以按照以下步骤进行：\\n\\n1. 从(3,2)开始，向右和向下扩展：\\n   - (4,2)\\n   - (5,2)\\n   - (3,3)\\n   - (4,3)\\n   - (5,3)\\n   - (3,4)\\n   - (4,4)\\n   - (5,4)\\n\\n2. 然后从(1,1)开始，向右和向下扩展：\\n   - (2,1)\\n   - (3,1)\\n   - (4,1)\\n   - (5,1)\\n   - (1,2)\\n   - (2,2)\\n   - (1,3)\\n   - (2,3)\\n   - (1,4)\\n   - (2,4)\\n\\n最终的安装顺序坐标为：\\n1. (4,2)\\n2. (5,2)\\n3. (3,3)\\n4. (4,3)\\n5. (5,3)\\n6. (3,4)\\n7. (4,4)\\n8. (5,4)\\n9. (2,1)\\n10. (3,1)\\n11. (4,1)\\n12. (5,1)\\n13. (1,2)\\n14. (2,2)\\n15. (1,3)\\n16. (2,3)\\n17. (1,4)\\n18. (2,4)\\n\\n这样可以确保安装路径尽量短，提高整体安装效率。', refusal=None, role='assistant', annotations=None, audio=None, function_call=None, tool_calls=None))], created=1743762494, model='qwen2.5-vl-72b-instruct', object='chat.completion', service_tier=None, system_fingerprint=None, usage=CompletionUsage(completion_tokens=419, prompt_tokens=856, total_tokens=1275, completion_tokens_details=CompletionTokensDetails(accepted_prediction_tokens=None, audio_tokens=None, reasoning_tokens=None, rejected_prediction_tokens=None, text_tokens=419), prompt_tokens_details=PromptTokensDetails(audio_tokens=None, cached_tokens=None, text_tokens=72, image_tokens=784)))\n",
      "处理图片: c:\\Users\\Nack\\Desktop\\Nack-graduation-project\\LLM\\Qwen\\images\\图2.jpg\n",
      "response: ChatCompletion(id='chatcmpl-fe86dd1d-ce79-96b9-a756-02747fd95a06', choices=[Choice(finish_reason='stop', index=0, logprobs=None, message=ChatCompletionMessage(content='为了提高安装效率，我们可以采用一种策略，即从中心向外扩展安装顺序。这样可以减少工具和操作人员的移动距离，从而提高整体效率。根据图片中的布局，以下是建议的安装顺序坐标（假设左上角为(1,1)，右下角为(5,4)）：\\n\\n1. (3,2)\\n2. (3,3)\\n3. (2,2)\\n4. (2,3)\\n5. (4,2)\\n6. (4,3)\\n7. (1,2)\\n8. (1,3)\\n9. (5,2)\\n10. (5,3)\\n11. (2,1)\\n12. (2,4)\\n13. (4,1)\\n14. (4,4)\\n15. (1,1)\\n16. (1,4)\\n17. (5,1)\\n18. (5,4)\\n\\n这个顺序是从已安装的SMA周围开始，逐步向外围扩展，确保每个步骤之间的移动距离最小化。', refusal=None, role='assistant', annotations=None, audio=None, function_call=None, tool_calls=None))], created=1743762503, model='qwen2.5-vl-72b-instruct', object='chat.completion', service_tier=None, system_fingerprint=None, usage=CompletionUsage(completion_tokens=228, prompt_tokens=1334, total_tokens=1562, completion_tokens_details=CompletionTokensDetails(accepted_prediction_tokens=None, audio_tokens=None, reasoning_tokens=None, rejected_prediction_tokens=None, text_tokens=228), prompt_tokens_details=PromptTokensDetails(audio_tokens=None, cached_tokens=None, text_tokens=72, image_tokens=1262)))\n",
      "处理图片: c:\\Users\\Nack\\Desktop\\Nack-graduation-project\\LLM\\Qwen\\images\\图3.jpg\n",
      "response: ChatCompletion(id='chatcmpl-35b5f6f9-41ae-9723-8d2b-7d04c7acd099', choices=[Choice(finish_reason='stop', index=0, logprobs=None, message=ChatCompletionMessage(content='为了提高安装效率，我们可以采用一种策略，即尽量减少机械臂或操作人员的移动距离。一个常见的方法是按照“之”字形或蛇形路径进行安装。这样可以确保每次安装后，下一个安装位置的距离较短。\\n\\n根据图片中的布局，假设空位从左到右、从上到下依次编号为1到20，已安装SMA的位置为3和18。以下是推荐的安装顺序：\\n\\n1. 4\\n2. 5\\n3. 6\\n4. 7\\n5. 8\\n6. 9\\n7. 10\\n8. 11\\n9. 12\\n10. 13\\n11. 14\\n12. 15\\n13. 16\\n14. 17\\n15. 19\\n16. 20\\n\\n这个顺序是从左到右、从上到下依次进行安装，避免了不必要的来回移动，从而提高了安装效率。', refusal=None, role='assistant', annotations=None, audio=None, function_call=None, tool_calls=None))], created=1743762511, model='qwen2.5-vl-72b-instruct', object='chat.completion', service_tier=None, system_fingerprint=None, usage=CompletionUsage(completion_tokens=219, prompt_tokens=1306, total_tokens=1525, completion_tokens_details=CompletionTokensDetails(accepted_prediction_tokens=None, audio_tokens=None, reasoning_tokens=None, rejected_prediction_tokens=None, text_tokens=219), prompt_tokens_details=PromptTokensDetails(audio_tokens=None, cached_tokens=None, text_tokens=72, image_tokens=1234)))\n",
      "处理图片: c:\\Users\\Nack\\Desktop\\Nack-graduation-project\\LLM\\Qwen\\images\\图4.jpg\n",
      "response: ChatCompletion(id='chatcmpl-1a1fa10b-f381-92cc-9bf6-a3301be88d30', choices=[Choice(finish_reason='stop', index=0, logprobs=None, message=ChatCompletionMessage(content='为了提高安装效率，我们可以采用一种策略，即从已安装SMA的两个位置开始，逐步向四周扩展。这样可以减少机械臂或操作人员的移动距离，从而提高安装速度。以下是推荐的安装顺序坐标（假设左上角为(1,1)，右下角为(5,4)）：\\n\\n1. (3,2) - 从已安装的(3,3)开始，向左移动一格。\\n2. (4,2) - 向右移动一格。\\n3. (2,2) - 向左移动两格。\\n4. (4,3) - 向上移动一格。\\n5. (2,3) - 向左移动两格。\\n6. (4,1) - 向下移动一格。\\n7. (2,1) - 向左移动两格。\\n8. (4,4) - 向上移动三格。\\n9. (2,4) - 向左移动两格。\\n10. (1,2) - 向左移动一格，再向下移动一格。\\n11. (5,2) - 向右移动四格。\\n12. (1,3) - 向上移动一格。\\n13. (5,3) - 向右移动四格。\\n14. (1,1) - 向左移动一格，再向下移动一格。\\n15. (5,1) - 向右移动四格。\\n16. (1,4) - 向上移动三格。\\n17. (5,4) - 向右移动四格。\\n\\n这个顺序尽量减少了机械臂或操作人员的移动距离，从而提高了安装效率。', refusal=None, role='assistant', annotations=None, audio=None, function_call=None, tool_calls=None))], created=1743762529, model='qwen2.5-vl-72b-instruct', object='chat.completion', service_tier=None, system_fingerprint=None, usage=CompletionUsage(completion_tokens=376, prompt_tokens=1306, total_tokens=1682, completion_tokens_details=CompletionTokensDetails(accepted_prediction_tokens=None, audio_tokens=None, reasoning_tokens=None, rejected_prediction_tokens=None, text_tokens=376), prompt_tokens_details=PromptTokensDetails(audio_tokens=None, cached_tokens=None, text_tokens=72, image_tokens=1234)))\n",
      "处理图片: c:\\Users\\Nack\\Desktop\\Nack-graduation-project\\LLM\\Qwen\\images\\图5.jpg\n",
      "response: ChatCompletion(id='chatcmpl-819bbfc9-6a52-9a9f-9f9c-f6347e3ae645', choices=[Choice(finish_reason='stop', index=0, logprobs=None, message=ChatCompletionMessage(content='为了提高安装效率，我们可以采用一种策略，即从左到右、从上到下依次安装SMA。这样可以减少机械臂的移动距离和时间。以下是按照这种策略规划的安装顺序坐标：\\n\\n1. (0, 0) - 已安装\\n2. (0, 1)\\n3. (0, 2)\\n4. (0, 3)\\n5. (0, 4)\\n\\n6. (1, 0) - 已安装\\n7. (1, 1)\\n8. (1, 2)\\n9. (1, 3)\\n10. (1, 4)\\n\\n11. (2, 0)\\n12. (2, 1)\\n13. (2, 2)\\n14. (2, 3)\\n15. (2, 4)\\n\\n16. (3, 0)\\n17. (3, 1)\\n18. (3, 2)\\n19. (3, 3)\\n20. (3, 4)\\n\\n其中，(0, 0) 和 (1, 0) 是已经安装完成的两个位置。剩余的空位按照上述顺序进行安装即可。', refusal=None, role='assistant', annotations=None, audio=None, function_call=None, tool_calls=None))], created=1743762540, model='qwen2.5-vl-72b-instruct', object='chat.completion', service_tier=None, system_fingerprint=None, usage=CompletionUsage(completion_tokens=262, prompt_tokens=1334, total_tokens=1596, completion_tokens_details=CompletionTokensDetails(accepted_prediction_tokens=None, audio_tokens=None, reasoning_tokens=None, rejected_prediction_tokens=None, text_tokens=262), prompt_tokens_details=PromptTokensDetails(audio_tokens=None, cached_tokens=None, text_tokens=72, image_tokens=1262)))\n",
      "所有图片处理完成，结果已保存至 images/image_descriptions.xlsx\n"
     ]
    }
   ],
   "source": [
    "# 遍历文件夹中的所有图片\n",
    "for image_file in os.listdir(IMAGE_FOLDER):\n",
    "    image_path = os.path.join(IMAGE_FOLDER, image_file)\n",
    "    image_path = os.path.abspath(image_path)  \n",
    "\n",
    "    # 检查是否是图片文件\n",
    "    if Path(image_path).suffix.lower() in VALID_EXTENSIONS:\n",
    "        print(f\"处理图片: {image_path}\")\n",
    "        description = describe_image(image_path, client)\n",
    "        \n",
    "        # 存入 Excel\n",
    "        ws.append([image_path, description])\n",
    "        \n",
    "        # 适当延迟，避免 API 速率限制\n",
    "        time.sleep(1)\n",
    "\n",
    "# 保存 Excel 文件\n",
    "wb.save(OUTPUT_EXCEL)\n",
    "print(f\"所有图片处理完成，结果已保存至 {OUTPUT_EXCEL}\")"
   ]
  }
 ],
 "metadata": {
  "kernelspec": {
   "display_name": "llm",
   "language": "python",
   "name": "python3"
  },
  "language_info": {
   "codemirror_mode": {
    "name": "ipython",
    "version": 3
   },
   "file_extension": ".py",
   "mimetype": "text/x-python",
   "name": "python",
   "nbconvert_exporter": "python",
   "pygments_lexer": "ipython3",
   "version": "3.12.9"
  }
 },
 "nbformat": 4,
 "nbformat_minor": 2
}
