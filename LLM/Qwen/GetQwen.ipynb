{
 "cells": [
  {
   "cell_type": "code",
   "execution_count": 1,
   "metadata": {},
   "outputs": [
    {
     "name": "stdout",
     "output_type": "stream",
     "text": [
      "c:\\Users\\Nack\\Desktop\\Nack-graduation-project\\LLM\\Qwen\n"
     ]
    }
   ],
   "source": [
    "import os\n",
    "import time\n",
    "import openpyxl\n",
    "from openai import OpenAI\n",
    "from pathlib import Path\n",
    "\n",
    "# OpenAI API 客户端（阿里云千问）\n",
    "client = OpenAI(\n",
    "    api_key=\"sk-038c3b8e36ce43e4a94156257a766bc4\",\n",
    "    base_url=\"https://dashscope.aliyuncs.com/compatible-mode/v1\",\n",
    ")\n",
    "\n",
    "print(os.getcwd())\n"
   ]
  },
  {
   "cell_type": "code",
   "execution_count": 2,
   "metadata": {},
   "outputs": [],
   "source": [
    "IMAGE_FOLDER = \"images\"  # 请修改为你的图片文件夹路径\n",
    "OUTPUT_EXCEL = \"images/image_descriptions.xlsx\"  # 结果保存的Excel文件\n",
    "\n",
    "# 支持的图片格式\n",
    "VALID_EXTENSIONS = {\".jpg\", \".png\", \".jpeg\"}\n",
    "\n",
    "# 创建 Excel 工作簿和工作表\n",
    "wb = openpyxl.Workbook()\n",
    "ws = wb.active\n",
    "ws.append([\"图片路径\", \"图片描述\"])  # 添加表头\n"
   ]
  },
  {
   "cell_type": "code",
   "execution_count": null,
   "metadata": {},
   "outputs": [],
   "source": [
    "import base64\n",
    "\n",
    "def describe_image(image_path, client):\n",
    "    \"\"\"调用 API 获取图片描述\"\"\"\n",
    "    try:\n",
    "        # 读取图片并进行 Base64 编码\n",
    "        with open(image_path, \"rb\") as image_file:\n",
    "            base64_image = base64.b64encode(image_file.read()).decode(\"utf-8\")\n",
    "\n",
    "        # 发送请求\n",
    "        response = client.chat.completions.create(\n",
    "            model=\"qwen2.5-vl-72b-instruct\",\n",
    "            messages=[\n",
    "                {\"role\": \"user\", \"content\": [\n",
    "                    {\"type\": \"text\", \"text\": \"你是一个机械制造领域的大师，现在有一个待安装SMA的盒子，共有20空位。空位中已有2个安装完成SMA，请你为剩下的空位规划安装顺序，使得安装效率最高。告诉我安装顺序坐标。\"},\n",
    "                    {\"type\": \"image_url\", \"image_url\": {\"url\": f\"data:image/jpeg;base64,{base64_image}\"}}\n",
    "                ]}\n",
    "            ]\n",
    "        )\n",
    "\n",
    "        # 获取返回结果\n",
    "        print(f\"response: {response}\")\n",
    "        return response.choices[0].message.content\n",
    "    except Exception as e:\n",
    "        print(f\"处理 {image_path} 时出错: {e}\")\n",
    "        return \"API 调用失败\"\n"
   ]
  },
  {
   "cell_type": "code",
   "execution_count": 4,
   "metadata": {},
   "outputs": [
    {
     "name": "stdout",
     "output_type": "stream",
     "text": [
      "处理图片: c:\\Users\\Nack\\Desktop\\Nack-graduation-project\\LLM\\Qwen\\images\\图1.jpg\n",
      "response: ChatCompletion(id='chatcmpl-56dbba88-3693-9d91-a617-ad20ec389e43', choices=[Choice(finish_reason='stop', index=0, logprobs=None, message=ChatCompletionMessage(content='根据图片中的信息，我们可以进行以下分析：\\n\\n1. **空位总数**：图片中有20个空位。\\n2. **已安装数量**：已经有2个空位安装了SMA（左上角和中间偏右的位置）。\\n3. **待安装数量**：还有18个空位需要安装SMA。\\n\\n为了确保安装效率最高，可以按照从左到右、从上到下的顺序进行安装。这样可以减少机械臂的移动距离，提高安装速度。\\n\\n### 安装顺序坐标：\\n假设每个空位用一个坐标表示，从左上角开始编号为(1,1)，依次向右和向下编号。\\n\\n- 已安装位置：(1,1) 和 (4,3)\\n- 待安装位置按顺序排列如下：\\n\\n```\\n(1,2), (1,3), (1,4), (1,5)\\n(2,1), (2,2), (2,3), (2,4), (2,5)\\n(3,1), (3,2), (3,3), (3,4), (3,5)\\n(4,1), (4,2), (4,4), (4,5)\\n(5,1), (5,2), (5,3), (5,4), (5,5)\\n```\\n\\n这样安排可以确保机械臂在安装过程中尽量减少不必要的移动，从而提高安装效率。', refusal=None, role='assistant', annotations=None, audio=None, function_call=None, tool_calls=None))], created=1743762320, model='qwen2.5-vl-72b-instruct', object='chat.completion', service_tier=None, system_fingerprint=None, usage=CompletionUsage(completion_tokens=308, prompt_tokens=877, total_tokens=1185, completion_tokens_details=CompletionTokensDetails(accepted_prediction_tokens=None, audio_tokens=None, reasoning_tokens=None, rejected_prediction_tokens=None, text_tokens=308), prompt_tokens_details=PromptTokensDetails(audio_tokens=None, cached_tokens=None, text_tokens=93, image_tokens=784)))\n",
      "处理图片: c:\\Users\\Nack\\Desktop\\Nack-graduation-project\\LLM\\Qwen\\images\\图2.jpg\n",
      "response: ChatCompletion(id='chatcmpl-a3439e2c-9743-9e72-9cd0-4b410aeb1970', choices=[Choice(finish_reason='stop', index=0, logprobs=None, message=ChatCompletionMessage(content='根据图片中的信息，我们可以进行以下分析：\\n\\n### 空位总数\\n图片中有20个空位。\\n\\n### 已安装数量\\n图片中已经有2个SMA连接器被安装在中间的两个空位上。\\n\\n### 待安装数量\\n待安装的SMA连接器数量为：20（总空位数） - 2（已安装数量） = 18个。\\n\\n### 安装顺序坐标\\n为了确保安装效率最高，建议按照从左到右、从上到下的顺序进行安装。以下是剩余空位的坐标（假设左上角为(1,1)，右下角为(5,4)）：\\n\\n1. (1,1)\\n2. (1,2)\\n3. (1,3)\\n4. (1,4)\\n5. (2,1)\\n6. (2,2)\\n7. (2,4)\\n8. (3,1)\\n9. (3,2)\\n10. (3,3)\\n11. (3,4)\\n12. (4,1)\\n13. (4,2)\\n14. (4,3)\\n15. (4,4)\\n16. (5,1)\\n17. (5,2)\\n18. (5,3)\\n\\n这样可以确保安装过程有条不紊，避免遗漏和重复操作。', refusal=None, role='assistant', annotations=None, audio=None, function_call=None, tool_calls=None))], created=1743762332, model='qwen2.5-vl-72b-instruct', object='chat.completion', service_tier=None, system_fingerprint=None, usage=CompletionUsage(completion_tokens=296, prompt_tokens=1355, total_tokens=1651, completion_tokens_details=CompletionTokensDetails(accepted_prediction_tokens=None, audio_tokens=None, reasoning_tokens=None, rejected_prediction_tokens=None, text_tokens=296), prompt_tokens_details=PromptTokensDetails(audio_tokens=None, cached_tokens=None, text_tokens=93, image_tokens=1262)))\n",
      "处理图片: c:\\Users\\Nack\\Desktop\\Nack-graduation-project\\LLM\\Qwen\\images\\图3.jpg\n",
      "response: ChatCompletion(id='chatcmpl-5252d40d-38bf-9d68-b5ca-b4370553e30b', choices=[Choice(finish_reason='stop', index=0, logprobs=None, message=ChatCompletionMessage(content='根据图片中的信息，我们可以进行以下分析：\\n\\n### 空位总数\\n图片中有24个空位。\\n\\n### 已安装数量\\n已经安装完成SMA的空位有10个。\\n\\n### 待安装数量\\n待安装的空位数量为：24 - 10 = 14个。\\n\\n### 安装顺序坐标\\n为了提高安装效率，建议按照从左到右、从上到下的顺序进行安装。以下是待安装空位的坐标（假设左上角为(1,1)，右下角为(6,4)）：\\n\\n1. (1,2)\\n2. (2,1)\\n3. (2,2)\\n4. (2,3)\\n5. (3,1)\\n6. (3,2)\\n7. (3,3)\\n8. (4,1)\\n9. (4,2)\\n10. (4,3)\\n11. (5,1)\\n12. (5,2)\\n13. (5,3)\\n14. (6,1)\\n\\n这样可以确保安装过程中的路径最短，从而提高安装效率。', refusal=None, role='assistant', annotations=None, audio=None, function_call=None, tool_calls=None))], created=1743762342, model='qwen2.5-vl-72b-instruct', object='chat.completion', service_tier=None, system_fingerprint=None, usage=CompletionUsage(completion_tokens=245, prompt_tokens=1327, total_tokens=1572, completion_tokens_details=CompletionTokensDetails(accepted_prediction_tokens=None, audio_tokens=None, reasoning_tokens=None, rejected_prediction_tokens=None, text_tokens=245), prompt_tokens_details=PromptTokensDetails(audio_tokens=None, cached_tokens=None, text_tokens=93, image_tokens=1234)))\n",
      "处理图片: c:\\Users\\Nack\\Desktop\\Nack-graduation-project\\LLM\\Qwen\\images\\图4.jpg\n",
      "response: ChatCompletion(id='chatcmpl-305088a6-40dc-9252-bf60-e9c2990d0784', choices=[Choice(finish_reason='stop', index=0, logprobs=None, message=ChatCompletionMessage(content='根据图片中的信息，我们可以进行以下分析：\\n\\n### 空位总数\\n图片中有24个空位。\\n\\n### 已安装数量\\n目前已经有2个SMA连接器被安装在盒子中。\\n\\n### 待安装数量\\n待安装的SMA连接器数量为24 - 2 = 22个。\\n\\n### 安装顺序坐标\\n为了提高安装效率，建议按照从左到右、从上到下的顺序进行安装。以下是具体的安装顺序坐标（假设左上角为(1,1)，右下角为(6,4)）：\\n\\n1. (1,1)\\n2. (1,2)\\n3. (1,3)\\n4. (1,4)\\n5. (2,1)\\n6. (2,2)\\n7. (2,3)\\n8. (2,4)\\n9. (3,1)\\n10. (3,2)\\n11. (3,3)\\n12. (3,4)\\n13. (4,1)\\n14. (4,2)\\n15. (4,3)\\n16. (4,4)\\n17. (5,1)\\n18. (5,2)\\n19. (5,3)\\n20. (5,4)\\n21. (6,1)\\n22. (6,2)\\n\\n请根据实际情况调整安装顺序，确保安装过程顺利进行。', refusal=None, role='assistant', annotations=None, audio=None, function_call=None, tool_calls=None))], created=1743762354, model='qwen2.5-vl-72b-instruct', object='chat.completion', service_tier=None, system_fingerprint=None, usage=CompletionUsage(completion_tokens=306, prompt_tokens=1327, total_tokens=1633, completion_tokens_details=CompletionTokensDetails(accepted_prediction_tokens=None, audio_tokens=None, reasoning_tokens=None, rejected_prediction_tokens=None, text_tokens=306), prompt_tokens_details=PromptTokensDetails(audio_tokens=None, cached_tokens=None, text_tokens=93, image_tokens=1234)))\n",
      "处理图片: c:\\Users\\Nack\\Desktop\\Nack-graduation-project\\LLM\\Qwen\\images\\图5.jpg\n",
      "response: ChatCompletion(id='chatcmpl-f1211108-f21f-9869-b2c4-9ae8c4b72077', choices=[Choice(finish_reason='stop', index=0, logprobs=None, message=ChatCompletionMessage(content='根据图片中的盒子，我们可以看到以下信息：\\n\\n- 空位总数：20个\\n- 已安装数量：4个（左上角、右上角、左下角和中间偏下的位置）\\n- 待安装数量：16个\\n\\n为了确保安装效率最高，可以按照以下顺序进行安装：\\n\\n1. (1, 2) - 第一行第二个空位\\n2. (1, 3) - 第一行第三个空位\\n3. (1, 4) - 第一行第四个空位\\n4. (2, 1) - 第二行第一个空位\\n5. (2, 2) - 第二行第二个空位\\n6. (2, 3) - 第二行第三个空位\\n7. (2, 4) - 第二行第四个空位\\n8. (3, 1) - 第三行第一个空位\\n9. (3, 2) - 第三行第二个空位\\n10. (3, 3) - 第三行第三个空位\\n11. (3, 4) - 第三行第四个空位\\n12. (4, 1) - 第四行第一个空位\\n13. (4, 2) - 第四行第二个空位\\n14. (4, 3) - 第四行第三个空位\\n15. (4, 4) - 第四行第四个空位\\n16. (5, 1) - 第五行第一个空位\\n\\n这样可以确保从左到右、从上到下依次安装，提高安装效率。', refusal=None, role='assistant', annotations=None, audio=None, function_call=None, tool_calls=None))], created=1743762371, model='qwen2.5-vl-72b-instruct', object='chat.completion', service_tier=None, system_fingerprint=None, usage=CompletionUsage(completion_tokens=353, prompt_tokens=1355, total_tokens=1708, completion_tokens_details=CompletionTokensDetails(accepted_prediction_tokens=None, audio_tokens=None, reasoning_tokens=None, rejected_prediction_tokens=None, text_tokens=353), prompt_tokens_details=PromptTokensDetails(audio_tokens=None, cached_tokens=None, text_tokens=93, image_tokens=1262)))\n",
      "所有图片处理完成，结果已保存至 images/image_descriptions.xlsx\n"
     ]
    }
   ],
   "source": [
    "# 遍历文件夹中的所有图片\n",
    "for image_file in os.listdir(IMAGE_FOLDER):\n",
    "    image_path = os.path.join(IMAGE_FOLDER, image_file)\n",
    "    image_path = os.path.abspath(image_path)  \n",
    "\n",
    "    # 检查是否是图片文件\n",
    "    if Path(image_path).suffix.lower() in VALID_EXTENSIONS:\n",
    "        print(f\"处理图片: {image_path}\")\n",
    "        description = describe_image(image_path, client)\n",
    "        \n",
    "        # 存入 Excel\n",
    "        ws.append([image_path, description])\n",
    "        \n",
    "        # 适当延迟，避免 API 速率限制\n",
    "        time.sleep(1)\n",
    "\n",
    "# 保存 Excel 文件\n",
    "wb.save(OUTPUT_EXCEL)\n",
    "print(f\"所有图片处理完成，结果已保存至 {OUTPUT_EXCEL}\")"
   ]
  }
 ],
 "metadata": {
  "kernelspec": {
   "display_name": "llm",
   "language": "python",
   "name": "python3"
  },
  "language_info": {
   "codemirror_mode": {
    "name": "ipython",
    "version": 3
   },
   "file_extension": ".py",
   "mimetype": "text/x-python",
   "name": "python",
   "nbconvert_exporter": "python",
   "pygments_lexer": "ipython3",
   "version": "3.12.9"
  }
 },
 "nbformat": 4,
 "nbformat_minor": 2
}
